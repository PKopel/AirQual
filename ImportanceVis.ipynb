{
 "cells": [
  {
   "cell_type": "code",
   "execution_count": 16,
   "metadata": {},
   "outputs": [],
   "source": [
    "import plotly.graph_objects as go\n",
    "import json\n",
    "import numpy as np"
   ]
  },
  {
   "cell_type": "code",
   "execution_count": 21,
   "metadata": {},
   "outputs": [
    {
     "data": {
      "application/vnd.jupyter.widget-view+json": {
       "model_id": "b1a5d425ccd945acbc8a5d3a7f73f9ba",
       "version_major": 2,
       "version_minor": 0
      },
      "text/plain": [
       "FigureWidget({\n",
       "    'data': [{'marker': {'color': array([4.17022005e-01, 7.20324493e-01, 1.14374817e-04, 3.0233…"
      ]
     },
     "metadata": {},
     "output_type": "display_data"
    }
   ],
   "source": [
    "# Constants\n",
    "img_width = 818\n",
    "img_height = 765\n",
    "scale_factor = 1\n",
    "\n",
    "np.random.seed(1)\n",
    "\n",
    "with open('sensors_list.json', 'r') as f:\n",
    "    sensors = json.load(f)\n",
    "\n",
    "x = list(map(lambda s: s['location']['longitude'], sensors))\n",
    "y = list(map(lambda s: s['location']['latitude'], sensors))\n",
    "\n",
    "f = go.FigureWidget([go.Scatter(x=x, y=y, mode='markers')])\n",
    "\n",
    "# Configure axes\n",
    "f.update_xaxes(\n",
    "    visible=False,\n",
    "    range=[19.70, 20.20], #[0, img_width * scale_factor]\n",
    ")\n",
    "\n",
    "f.update_yaxes(\n",
    "    visible=False,\n",
    "    range=[49.80, 50.30], #[0, img_height * scale_factor],\n",
    "    # the scaleanchor attribute ensures that the aspect ratio stays constant\n",
    "    scaleanchor='x'\n",
    ")\n",
    "\n",
    "# Add image\n",
    "f.add_layout_image(\n",
    "    dict(\n",
    "        x=19.70,\n",
    "        sizex=0.5,\n",
    "        y=50.30,\n",
    "        sizey=0.5,\n",
    "        xref='x',\n",
    "        yref='y',\n",
    "        opacity=1,\n",
    "        layer='below',\n",
    "        sizing='stretch',\n",
    "        source='charts/cracow.png')\n",
    ")\n",
    "\n",
    "# Configure other layout\n",
    "f.update_layout(\n",
    "    width=img_width * scale_factor,\n",
    "    height=img_height * scale_factor,\n",
    "    margin={\"l\": 0, \"r\": 0, \"t\": 0, \"b\": 0},\n",
    ")\n",
    "\n",
    "scatter = f.data[0]\n",
    "colors = np.random.rand(100)\n",
    "scatter.marker.color = colors\n",
    "scatter.marker.showscale = True\n",
    "scatter.marker.size = [10] * 100\n",
    "f.layout.hovermode = 'closest'\n",
    "\n",
    "\n",
    "# create our callback function\n",
    "def update_point(trace, points, selector):\n",
    "    i = points.point_inds[0]\n",
    "    c = np.random.rand(100)\n",
    "    s = [10] * 100\n",
    "    c[i] = 0\n",
    "    s[i] = 20\n",
    "    with f.batch_update():\n",
    "        scatter.marker.color = c\n",
    "        scatter.marker.size = s\n",
    "\n",
    "\n",
    "scatter.on_click(update_point)\n",
    "\n",
    "f"
   ]
  }
 ],
 "metadata": {
  "interpreter": {
   "hash": "916dbcbb3f70747c44a77c7bcd40155683ae19c65e1c03b4aa3499c5328201f1"
  },
  "kernelspec": {
   "display_name": "Python 3.8.10 64-bit",
   "language": "python",
   "name": "python3"
  },
  "language_info": {
   "codemirror_mode": {
    "name": "ipython",
    "version": 3
   },
   "file_extension": ".py",
   "mimetype": "text/x-python",
   "name": "python",
   "nbconvert_exporter": "python",
   "pygments_lexer": "ipython3",
   "version": "3.8.10"
  },
  "orig_nbformat": 4
 },
 "nbformat": 4,
 "nbformat_minor": 2
}
