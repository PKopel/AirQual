{
  "nbformat": 4,
  "nbformat_minor": 0,
  "metadata": {
    "colab": {
      "name": "AirQual.ipynb",
      "provenance": [],
      "collapsed_sections": []
    },
    "kernelspec": {
      "name": "python3",
      "display_name": "Python 3"
    },
    "language_info": {
      "name": "python"
    },
    "accelerator": "GPU"
  },
  "cells": [
    {
      "cell_type": "code",
      "execution_count": 3,
      "metadata": {
        "colab": {
          "base_uri": "https://localhost:8080/"
        },
        "id": "5D7akje0qfSB",
        "outputId": "62fa82dc-dd41-402f-ced0-d637430ef63f"
      },
      "outputs": [
        {
          "output_type": "stream",
          "name": "stdout",
          "text": [
            "Drive already mounted at /content/gdrive; to attempt to forcibly remount, call drive.mount(\"/content/gdrive\", force_remount=True).\n",
            "/content/gdrive/My Drive/Colab/Datasets/AirQual\n",
            "--------\n",
            "all_measurements.csv\n"
          ]
        }
      ],
      "source": [
        "from google.colab import drive\n",
        "drive.mount('/content/gdrive')\n",
        "%cd /content/gdrive/My Drive/Colab/Datasets/AirQual\n",
        "!echo \"--------\"\n",
        "!ls"
      ]
    },
    {
      "cell_type": "code",
      "source": [
        "import warnings\n",
        "warnings.simplefilter(action='ignore', category=FutureWarning)\n",
        "\n",
        "import json\n",
        "import matplotlib.pyplot as plt\n",
        "import tensorflow as tf\n",
        "import numpy as np\n",
        "import pandas as pd\n",
        "import math\n",
        "import sys, time, os\n",
        "from IPython.display import clear_output\n",
        "from sklearn.utils import shuffle\n",
        "from sklearn.model_selection import train_test_split\n",
        "import time\n",
        "from scipy.interpolate import LinearNDInterpolator\n",
        "from functools import lru_cache\n",
        "from datetime import datetime\n",
        "\n",
        "import tensorflow.keras as keras\n",
        "from tensorflow.keras.models import *\n",
        "from tensorflow.keras.layers import *\n",
        "from tensorflow.keras.callbacks import *\n",
        "from tensorflow.keras.optimizers import *\n",
        "from tensorflow.keras.utils import to_categorical, Sequence\n",
        "from tensorflow.keras.losses import MeanSquaredError\n"
      ],
      "metadata": {
        "id": "ctPr5PLNq04p"
      },
      "execution_count": 54,
      "outputs": []
    },
    {
      "cell_type": "code",
      "source": [
        "dataset_path = 'all_measurements.csv'\n",
        "predict_columns = [\"PM10\"]\n",
        "cracow_center = 50.061868834110356, 19.937604241982864\n",
        "cracow_center_radius = 4 #km\n",
        "center_latlong2km_conversion = (111.11, 71.43)\n",
        "test_valid_ratio = 4\n",
        "\n",
        "SEED = 123;\n",
        "\n",
        "# csv columns:\n",
        "LATITUDE = 'latitude'\n",
        "LONGITUDE = 'longitude'\n",
        "ELEVATION = 'elevation'\n",
        "SENSOR_ID = 'sensorId'\n",
        "FROM_DATE_TIME = 'fromDateTime'\n",
        "TILL_DATE_TIME = 'tillDateTime'\n",
        "PM1 = 'PM1'\n",
        "PM25 = 'PM25'\n",
        "PM10 = 'PM10'\n",
        "PRESSURE = 'pressure'\n",
        "HUMIDITY = 'humidity'\n",
        "TEMP = 'temperature'\n",
        "WIND_SPEED = 'wind_speed'\n",
        "WIND_BEARING = 'wind_bearing'\n",
        "# additional df columns:\n",
        "DATE = 'date'\n",
        "HOUR = 'hour'\n",
        "WEEKDAY = 'weekday'\n",
        "WIND_BEARING_RAD = 'wind_bearing_rad'\n",
        "RHO = 'rho'\n",
        "THETA = 'theta'\n",
        "X_COLUMN = 'x'\n",
        "Y_COLUMN = 'y'\n",
        "\n",
        "\n",
        "all_data = pd.read_csv('all_measurements.csv')\n",
        "all_data[FROM_DATE_TIME] = all_data[FROM_DATE_TIME].map(pd.to_datetime)\n",
        "all_data[TILL_DATE_TIME] = all_data[TILL_DATE_TIME].map(pd.to_datetime)\n"
      ],
      "metadata": {
        "id": "dr_jp8o3rCBn"
      },
      "execution_count": 5,
      "outputs": []
    },
    {
      "cell_type": "code",
      "source": [
        ""
      ],
      "metadata": {
        "id": "cDUDRhbqHsQh"
      },
      "execution_count": null,
      "outputs": []
    },
    {
      "cell_type": "code",
      "source": [
        "#=================\n",
        "#   DATA UTILS\n",
        "#=================\n",
        "\n",
        "def polar2xy(r,theta):\n",
        "  if type(r) != np.ndarray or type(theta) != np.ndarray:\n",
        "    r, theta = np.array(r), np.array(theta)\n",
        "  assert r.shape == theta.shape\n",
        "\n",
        "  dir = np.exp( 1j * theta )\n",
        "  return r * np.real(dir), r * np.imag(dir)\n",
        "\n",
        "def xy2polar(x,y):\n",
        "  if type(x) != np.ndarray or type(y) != np.ndarray:\n",
        "    x, y = np.array(x), np.array(y)\n",
        "  assert x.shape == y.shape\n",
        "\n",
        "  x = x.astype(np.csingle)\n",
        "  y = y.astype(np.csingle)\n",
        "  return  np.abs(x+y*(1j)).astype(np.double), ((np.angle(x+y*(1j))) % (2*math.pi)).astype(np.double)\n",
        "\n",
        "def latlong2xy(lat, longi, c_lat, c_longi): #-> (km, km)\n",
        "  y = (lat-c_lat)*center_latlong2km_conversion[0]\n",
        "  x = (longi-c_longi)*center_latlong2km_conversion[1]\n",
        "  return (x,y)\n",
        "\n",
        "def xy2latlong(x, y, c_lat, c_longi):\n",
        "  lat = (y/center_latlong2km_conversion[0]) + c_lat\n",
        "  longi = (x/(center_latlong2km_conversion[1])) + c_longi\n",
        "  return (lat,longi)\n",
        "\n",
        "def latlong2polar(lat, longi, c_lat, c_longi): #-> (km, rad)\n",
        "  return xy2polar(*latlong2xy(lat, longi, c_lat, c_longi))\n",
        "\n",
        "# rho: km, theta: rad\n",
        "def polar2latlong(rho, theta, c_lat, c_longi):\n",
        "  return xy2latlong(*polar2xy(rho, theta),c_lat, c_longi)\n",
        "\n",
        "#tests\n",
        "in1 = 14, 22, 14,22\n",
        "out1 = latlong2polar(*in1)\n",
        "assert np.isclose(out1[0], 0) and np.isclose(out1[1], 0)\n",
        "\n",
        "in2 = 12, 20, 12.1, 19.9\n",
        "tmp2 = latlong2polar(*in2)\n",
        "out2 = polar2latlong(tmp2[0], tmp2[1], in2[2], in2[3])\n",
        "assert np.isclose(out2[0], in2[0]) and np.isclose(out2[1], in2[1])\n",
        "\n",
        "in3 = np.array([14,12]), np.array([22,20]), np.array([14,12.1]), np.array([22,19.9])\n",
        "tmp3 = latlong2polar(*in3)\n",
        "out3 = polar2latlong(tmp3[0], tmp3[1], in3[2], in3[3])\n",
        "assert np.all(np.isclose(out3[0], in3[0])) and np.all(np.isclose(out3[1], in3[1]))\n",
        "\n",
        "out4 = xy2polar(-1,-1)\n",
        "assert np.isclose(out4[0], math.sqrt(2)) and np.isclose(out4[1], math.pi*(1.25))"
      ],
      "metadata": {
        "id": "e4zYdCeHytji"
      },
      "execution_count": 6,
      "outputs": []
    },
    {
      "cell_type": "code",
      "source": [
        "#drop nan\n",
        "all_data = all_data[pd.notna(all_data[WIND_BEARING])]       \n",
        "all_data = all_data[pd.notna(all_data[WIND_SPEED])]\n",
        "all_data = all_data[pd.notna(all_data[TEMP])]\n",
        "all_data = all_data[pd.notna(all_data[HUMIDITY])]\n",
        "all_data = all_data[pd.notna(all_data[PRESSURE])]\n",
        "all_data = all_data[pd.notna(all_data[LONGITUDE])]\n",
        "all_data = all_data[pd.notna(all_data[LATITUDE])]\n",
        "\n",
        "\n",
        "#wind bearing to radians\n",
        "all_data[WIND_BEARING_RAD] = (all_data[WIND_BEARING]/180.0)*math.pi\n",
        "# convert angle 0 from direction [0,1](North) to [1,0](East)\n",
        "all_data[WIND_BEARING_RAD] = (all_data[WIND_BEARING_RAD]+math.pi/2)%(2*math.pi)\n",
        "\n",
        "all_data.loc[:, HOUR] = all_data[FROM_DATE_TIME].map(\n",
        "    lambda x: x.hour)\n",
        "all_data.loc[:, DATE] = all_data[FROM_DATE_TIME].map(\n",
        "    lambda x: x.date)\n",
        "all_data.loc[:, WEEKDAY] = all_data[FROM_DATE_TIME].map(\n",
        "    lambda x: x.weekday())\n",
        "\n",
        "x, y = latlong2xy(all_data[LATITUDE],all_data[LONGITUDE], cracow_center[0],cracow_center[1])\n",
        "all_data[X_COLUMN] = x\n",
        "all_data[Y_COLUMN] = y\n"
      ],
      "metadata": {
        "id": "P9DzLGXev4kg"
      },
      "execution_count": 7,
      "outputs": []
    },
    {
      "cell_type": "code",
      "source": [
        ""
      ],
      "metadata": {
        "id": "hAT5eTL9dK7w"
      },
      "execution_count": null,
      "outputs": []
    },
    {
      "cell_type": "code",
      "source": [
        "\n",
        "\n",
        "class DatasetNetworkIterator(Sequence):\n",
        "  def __init__(self, datetimes, df, target_columns, batch_size = 64, inner_radius = 2):\n",
        "    self.datetimes = shuffle(datetimes, random_state = SEED)\n",
        "    self.datetimes_ids = np.array([i for i in range(len(self.datetimes))])\n",
        "    self.batch_size = batch_size\n",
        "    self.target_columns = target_columns\n",
        "    self.normalize_cols = set([ELEVATION, PRESSURE, HUMIDITY, TEMP, WIND_SPEED, HOUR])\n",
        "    self.rootnorm_cols = set([PM1, PM10, PM25])\n",
        "    self.outer_vector_size = 20\n",
        "    self.inner_vector_size = 3\n",
        "    self.target_vector_size = len(target_columns) +1\n",
        "\n",
        "    self.norm_cols_min = dict([(colname, df[colname].min()) for colname in self.normalize_cols])\n",
        "    self.norm_cols_max = dict([(colname, df[colname].max()) for colname in self.normalize_cols])\n",
        "\n",
        "    for colname in self.rootnorm_cols:\n",
        "      self.norm_cols_min[colname] = df[colname].min()\n",
        "      self.norm_cols_max[colname] = df[colname].max()\n",
        "\n",
        "    self.inner_df = df[df[X_COLUMN]*df[X_COLUMN] + df[Y_COLUMN]*df[Y_COLUMN] < inner_radius**2]\n",
        "    self.outer_df = df[df[X_COLUMN]*df[X_COLUMN] + df[Y_COLUMN]*df[Y_COLUMN] >= inner_radius**2]\n",
        "\n",
        "  def __len__(self):\n",
        "      return math.ceil(len(self.datetimes) // self.batch_size)\n",
        "\n",
        "  def on_epoch_end(self):\n",
        "    self.datetimes_ids = shuffle(self.datetimes_ids, random_state = SEED)\n",
        "\n",
        "\n",
        "  def __getitem__(self, idx):\n",
        "\n",
        "    batch_start = idx*self.batch_size\n",
        "    batch_end = min((idx+1)*self.batch_size, len(self.datetimes))\n",
        "\n",
        "    outer_sensor_datavectors = []\n",
        "    inner_sensor_datavectors = []\n",
        "    target_sensor_datavectors = []\n",
        "    for dtid in self.datetimes_ids[batch_start:batch_end]:\n",
        "      outer_sensor_datavectors.append(self.get_outer_states_data(dtid))\n",
        "      inner_sensor_datavectors.append(self.get_inner_states_data(dtid))\n",
        "      target_sensor_datavectors.append(self.get_target_states_data(dtid))\n",
        "\n",
        "    max_outer_samples_in_batch = max(map(lambda x: len(x), outer_sensor_datavectors))\n",
        "    max_inner_samples_in_batch = max(map(lambda x: len(x), inner_sensor_datavectors))\n",
        "\n",
        "    batch_x_outer = np.zeros((batch_end-batch_start, max_outer_samples_in_batch, self.outer_vector_size))\n",
        "    batch_x_inner = np.zeros((batch_end-batch_start, max_inner_samples_in_batch, self.inner_vector_size))\n",
        "    batch_x_target = np.zeros((batch_end-batch_start, max_inner_samples_in_batch, self.target_vector_size))\n",
        "\n",
        "    for i, date_datavectors in enumerate(outer_sensor_datavectors):\n",
        "      for j, datavector in enumerate(date_datavectors):\n",
        "        batch_x_outer[i,j] = datavector\n",
        "\n",
        "    for i, date_datavectors in enumerate(inner_sensor_datavectors):\n",
        "      for j, datavector in enumerate(date_datavectors):\n",
        "        batch_x_inner[i,j] = datavector\n",
        "\n",
        "    for i, date_datavectors in enumerate(target_sensor_datavectors):\n",
        "      for j, datavector in enumerate(date_datavectors):\n",
        "        batch_x_target[i,j] = datavector\n",
        "\n",
        "    return ([batch_x_outer,batch_x_inner], batch_x_target)\n",
        "\n",
        "  def get_batch_sensors(self, idx):\n",
        "    batch_start = idx*self.batch_size\n",
        "    batch_end = min((idx+1)*self.batch_size, len(self.datetimes))\n",
        "\n",
        "    outer_sensors = []\n",
        "    for dtid in self.datetimes_ids[batch_start:batch_end]:\n",
        "      outer_sensors.append(self.get_outer_states_sensors(dtid))\n",
        "\n",
        "    return outer_sensors\n",
        "\n",
        "\n",
        "  @lru_cache(maxsize=40000)\n",
        "  def get_outer_states_sensors(self, datetime_id):\n",
        "    records = self.get_outer_by_date(self.datetimes[datetime_id])\n",
        "    sensorIds = []\n",
        "    for _, record in records.iterrows():\n",
        "      sensorIds.append(record[SENSOR_ID])\n",
        "    return sensorIds\n",
        "\n",
        "  @lru_cache(maxsize=40000)\n",
        "  def get_outer_states_data(self, datetime_id):\n",
        "    records = self.get_outer_by_date(self.datetimes[datetime_id])\n",
        "    datavectors = []\n",
        "    for _, record in records.iterrows():\n",
        "      datavectors.append(self.outer_record_to_net(record))\n",
        "    return datavectors\n",
        "\n",
        "  @lru_cache(maxsize=40000)\n",
        "  def get_inner_states_data(self, datetime_id):\n",
        "    records = self.get_inner_by_date(self.datetimes[datetime_id])\n",
        "    datavectors = []\n",
        "    for _, record in records.iterrows():\n",
        "      datavectors.append(self.inner_record_to_net(record))\n",
        "    return datavectors\n",
        "\n",
        "  @lru_cache(maxsize=40000)\n",
        "  def get_target_states_data(self, datetime_id):\n",
        "    records = self.get_inner_by_date(self.datetimes[datetime_id])\n",
        "    datavectors = []\n",
        "    for _, record in records.iterrows():\n",
        "      datavectors.append(self.target_record_to_net(record))\n",
        "    return datavectors\n",
        "\n",
        "  def get_record_val(self, record, colname):\n",
        "    if colname in self.normalize_cols:\n",
        "      return (record[colname] - self.norm_cols_min[colname])/(self.norm_cols_max[colname] - self.norm_cols_min[colname])\n",
        "    elif colname in self.rootnorm_cols:\n",
        "      return tf.math.pow((record[colname] - self.norm_cols_min[colname])/(self.norm_cols_max[colname] - self.norm_cols_min[colname]),1/3)\n",
        "    else:\n",
        "      return record[colname]\n",
        "\n",
        "  def get_outer_by_date(self, dt):\n",
        "    return self.outer_df[self.outer_df[FROM_DATE_TIME] == dt]\n",
        "\n",
        "  def get_inner_by_date(self, dt):\n",
        "    return self.inner_df[self.inner_df[FROM_DATE_TIME] == dt]\n",
        "\n",
        "  def outer_record_to_net(self,record):\n",
        "    features = np.zeros(self.outer_vector_size)\n",
        "    features[0] = 1\n",
        "    features[1] = self.get_record_val(record,X_COLUMN)\n",
        "    features[2] = self.get_record_val(record,Y_COLUMN)\n",
        "    features[3] = self.get_record_val(record,WIND_BEARING_RAD)\n",
        "    features[4] = self.get_record_val(record,WIND_SPEED)\n",
        "    features[5] = self.get_record_val(record,ELEVATION)\n",
        "    features[6] = self.get_record_val(record,PRESSURE)\n",
        "    features[7] = self.get_record_val(record,HUMIDITY)\n",
        "    features[8] = self.get_record_val(record,TEMP)\n",
        "    features[9] = self.get_record_val(record,HOUR)\n",
        "    features[10] = self.get_record_val(record,PM1)\n",
        "    features[11] = self.get_record_val(record,PM10)\n",
        "    features[12] = self.get_record_val(record,PM25)\n",
        "    features[13:20] = to_categorical(self.get_record_val(record,WEEKDAY),7)\n",
        "\n",
        "    return features\n",
        "  \n",
        "  def inner_record_to_net(self,record):\n",
        "    features = np.zeros(self.inner_vector_size)\n",
        "    features[0] = 1\n",
        "    features[1] = self.get_record_val(record,X_COLUMN)\n",
        "    features[2] = self.get_record_val(record,Y_COLUMN)\n",
        "    return features\n",
        "\n",
        "  def target_record_to_net(self,record):\n",
        "    features = np.zeros(len(self.target_columns)+1)\n",
        "    features[0] = 1\n",
        "    for i, colname in enumerate(self.target_columns):\n",
        "      features[i+1] = self.get_record_val(record,colname)\n",
        "    return features\n"
      ],
      "metadata": {
        "id": "PtLbPXlxeor8"
      },
      "execution_count": 22,
      "outputs": []
    },
    {
      "cell_type": "code",
      "source": [
        ""
      ],
      "metadata": {
        "id": "SIoPwTZAu6Gf"
      },
      "execution_count": null,
      "outputs": []
    },
    {
      "cell_type": "code",
      "source": [
        "def loss_fn(y_true, y_pred):\n",
        "  mask = y_true[...,0]\n",
        "  sqrdiff = tf.math.pow(y_true[...,-1] - y_pred[...,-1],2)\n",
        "  masked = sqrdiff*mask           \n",
        "\n",
        "  return tf.reduce_sum(masked,axis = -1)\n",
        "\n",
        "def dummy_loss(y_true, y_pred):\n",
        "  return tf.zeros(shape=(tf.shape(y_true)[0],))\n",
        "\n",
        "\n",
        "def get_net(in_outer_size,in_inner_size):\n",
        "\n",
        "  N_DISC = 16\n",
        "  N_FEAT = 32\n",
        "\n",
        "  activation = \"relu\"\n",
        "\n",
        "  input_outer = Input(shape=(None, in_outer_size))\n",
        "  input_inner = Input(shape=(None, in_inner_size))\n",
        "  \n",
        "  outer_mask = input_outer[...,0]\n",
        "  outer_mask = Dropout(0.1)(outer_mask)\n",
        "  inner_mask = input_inner[...,0]\n",
        "  \n",
        "  inner_features = input_inner[...,1:]\n",
        "\n",
        "  outer_features = input_outer[...,1:]\n",
        "  outer_wind_x = tf.expand_dims(tf.math.cos(input_outer[...,3]),-1)\n",
        "  outer_wind_y = tf.expand_dims(tf.math.sin(input_outer[...,3]),-1)\n",
        "  outer_features = tf.concat([outer_features, outer_wind_x, outer_wind_y], -1)\n",
        "\n",
        "  outer_features_grid = tf.expand_dims(outer_features, -2)\n",
        "  outer_features_grid = tf.repeat(outer_features_grid, tf.shape(input_inner)[-2], axis = -2)\n",
        "\n",
        "  inner_features_grid = tf.expand_dims(inner_features, -3)\n",
        "  inner_features_grid = tf.repeat(inner_features_grid, tf.shape(input_outer)[-2], axis = -3)\n",
        "\n",
        "  #combine every (outer sensor data)X(inner location coordinates)\n",
        "  cross_grid = tf.concat([outer_features_grid, inner_features_grid], -1)\n",
        "\n",
        "  cross_x_diff = tf.expand_dims(cross_grid[...,0] - cross_grid[..., -2], -1)\n",
        "  cross_y_diff = tf.expand_dims(cross_grid[...,1] - cross_grid[..., -1], -1)\n",
        "\n",
        "  #distance between outer sensor to inner location\n",
        "  cross_diff_mod = tf.math.sqrt(cross_x_diff**2 + cross_y_diff**2)\n",
        "\n",
        "  cross_wind_x_unit = tf.expand_dims(cross_grid[...,-4], -1)\n",
        "  cross_wind_y_unit = tf.expand_dims(cross_grid[...,-3], -1)\n",
        "\n",
        "  cross_x_diff_unit = tf.math.divide_no_nan(cross_x_diff, cross_diff_mod)\n",
        "  cross_y_diff_unit = tf.math.divide_no_nan(cross_y_diff, cross_diff_mod)\n",
        "\n",
        "  #cos of wind angle from outer sensor to inner point\n",
        "  cross_wind_alignment = cross_x_diff_unit*cross_wind_x_unit + cross_y_diff_unit*cross_wind_y_unit\n",
        "\n",
        "  #add calculated metrics to grid\n",
        "  cross_grid = tf.concat([cross_grid, cross_diff_mod, cross_wind_alignment], -1)\n",
        "\n",
        "  #discriminator, rate how important each outer sensor is for predicting values at inner point\n",
        "  discriminator = Dense(N_DISC,activation = activation)(cross_grid)\n",
        "  discriminator = Dense(N_DISC,activation = activation)(discriminator)\n",
        "  discriminator = Dense(N_DISC,activation = activation)(discriminator)\n",
        "  discriminator = Dense(N_DISC,activation = activation)(discriminator)\n",
        "  discriminator = Dense(N_DISC,activation = activation)(discriminator)\n",
        "  # discriminator = Dense(N_DISC,activation = activation)(discriminator)\n",
        "  discriminator = Dense(1,activation = \"relu\")(discriminator)\n",
        "  discriminator = discriminator * tf.expand_dims(tf.expand_dims(outer_mask,-1),-1)\n",
        "  discriminator = discriminator * tf.expand_dims(tf.repeat(tf.expand_dims(inner_mask,1),tf.shape(input_outer)[-2], axis = 1),-1)\n",
        "  ratings = Softmax(axis = 1)(discriminator)\n",
        "\n",
        "  #learn features relevant to prediction, perform their weighted sum over outer sensors based on discriminator ratings\n",
        "  features = Dense(N_FEAT,activation = activation)(cross_grid)\n",
        "  features = Dense(N_FEAT,activation = activation)(features)\n",
        "  features = Dense(N_FEAT,activation = activation)(features)\n",
        "  features = Dense(N_FEAT,activation = activation)(features)\n",
        "  features = Dense(N_FEAT,activation = activation)(features)\n",
        "  # features = Dense(N_FEAT,activation = activation)(features)\n",
        "  features = features * tf.repeat(ratings, tf.shape(features)[-1], axis = -1)\n",
        "  sum_features = tf.math.reduce_sum(features,axis = 1)\n",
        "\n",
        "  #generate final value predictions for each inner point\n",
        "  final = Dense(N_FEAT,activation = activation)(sum_features)\n",
        "  final = Dense(N_FEAT,activation = activation)(final)\n",
        "  final = Dense(N_FEAT,activation = activation)(final)\n",
        "  final = Dense(N_FEAT,activation = activation)(final)\n",
        "  final = Dense(N_FEAT,activation = activation)(final)\n",
        "  final = Dense(N_FEAT,activation = activation)(final)\n",
        "\n",
        "  final = Dense(1,activation = 'sigmoid')(final)\n",
        "  final = tf.concat([tf.expand_dims(inner_mask,axis=-1), final], axis = -1)\n",
        "  final = final * tf.expand_dims(inner_mask, axis = -1)\n",
        "\n",
        "  model = Model([input_outer,input_inner], [final,ratings])\n",
        "  \n",
        "  return model\n",
        "\n",
        "model = get_net(20,3)\n",
        "\n",
        "model.compile(optimizer = RMSprop(learning_rate=0.002), loss = [loss_fn, dummy_loss])\n",
        "\n",
        "# model.summary()"
      ],
      "metadata": {
        "id": "Inc1wYgZ2MPk"
      },
      "execution_count": 9,
      "outputs": []
    },
    {
      "cell_type": "code",
      "source": [
        "class HistoryCallback(Callback):\n",
        "    \n",
        "  def __init__(self, history = None, epilepsy_protection = False):\n",
        "    self.epilepsy_protection = epilepsy_protection\n",
        "    if(history == None):\n",
        "      self.history = {\"loss\" : [],\n",
        "                      \"val_loss\" : []}\n",
        "    else:\n",
        "        self.history = history\n",
        "\n",
        "  def on_epoch_end(self,epoch,logs = None, show_from = 0):\n",
        "    print(logs)\n",
        "    if \"val_loss\" in logs:\n",
        "      self.history[\"val_loss\"].append(logs[\"val_loss\"])\n",
        "    self.history[\"loss\"].append(logs[\"loss\"])\n",
        "    if len(self.history[\"loss\"]) > show_from:\n",
        "      clear_output()\n",
        "      plt.close('all')\n",
        "      plt.figure()\n",
        "      plt.plot(self.history[\"loss\"][show_from:])\n",
        "      plt.plot(self.history[\"val_loss\"][show_from:])\n",
        "      plt.legend([\"loss\",\"val_loss\"])\n",
        "      plt.yscale('log')\n",
        "      plt.show()\n",
        "      if self.epilepsy_protection:\n",
        "        time.sleep(0.5)\n",
        "    "
      ],
      "metadata": {
        "id": "vhl85OXLZmx9"
      },
      "execution_count": 10,
      "outputs": []
    },
    {
      "cell_type": "code",
      "source": [
        ""
      ],
      "metadata": {
        "id": "JOGt_yfygMpN"
      },
      "execution_count": null,
      "outputs": []
    },
    {
      "cell_type": "code",
      "source": [
        "random_inners_count = 40\n",
        "ids = all_data['sensorId'].unique()\n",
        "\n",
        "random_inners = {}\n",
        "for i in range(random_inners_count):\n",
        "  alpha = 2 * math.pi * np.random.rand()\n",
        "  r = cracow_center_radius * math.sqrt(np.random.rand())\n",
        "  x = r * math.cos(alpha)\n",
        "  y = r * math.sin(alpha)\n",
        "  lat, longi = xy2latlong(x, y, cracow_center[0], cracow_center[1])\n",
        "  random_id = int(np.random.rand()*100000)\n",
        "  while random_id in ids:\n",
        "    random_id = int(np.random.rand()*100000)\n",
        "  np.append(ids, random_id)\n",
        "  random_inners[(x, y)] = (random_id, lat, longi)\n",
        "  "
      ],
      "metadata": {
        "id": "9Wecve_PgPgz"
      },
      "execution_count": 11,
      "outputs": []
    },
    {
      "cell_type": "code",
      "source": [
        "interp_points = list(random_inners.keys())\n",
        "interp_points_x, interp_points_y = [[i for i, j in interp_points], [j for i, j in interp_points]]\n",
        "new_records = []\n",
        "for date in all_data['fromDateTime'].unique():\n",
        "  cut_data = all_data[all_data['fromDateTime'] == date]\n",
        "  first_row = cut_data.iloc[0]\n",
        "  fromDateTime = first_row['fromDateTime']\n",
        "  tillDateTime = first_row['tillDateTime']\n",
        "  hour = first_row['hour']\n",
        "  date = first_row['date']\n",
        "  weekday = first_row['weekday']\n",
        "\n",
        "  x_points = cut_data['x']\n",
        "  y_points = cut_data['y']\n",
        "\n",
        "  elevetion_interp = LinearNDInterpolator(list(zip(x_points, y_points)), cut_data['elevation'])\n",
        "  PM1_interp = LinearNDInterpolator(list(zip(x_points, y_points)), cut_data['PM1'])\n",
        "  PM25_interp = LinearNDInterpolator(list(zip(x_points, y_points)), cut_data['PM25'])\n",
        "  PM10_interp = LinearNDInterpolator(list(zip(x_points, y_points)), cut_data['PM10'])\n",
        "  pressure_interp = LinearNDInterpolator(list(zip(x_points, y_points)), cut_data['pressure'])\n",
        "  humidity_interp = LinearNDInterpolator(list(zip(x_points, y_points)), cut_data['humidity'])\n",
        "  temperature_interp = LinearNDInterpolator(list(zip(x_points, y_points)), cut_data['temperature'])\n",
        "  wind_speed_interp = LinearNDInterpolator(list(zip(x_points, y_points)), cut_data['wind_speed'])\n",
        "  wind_bearing_interp = LinearNDInterpolator(list(zip(x_points, y_points)), cut_data['wind_bearing'])\n",
        "  wind_bearing_rad_interp = LinearNDInterpolator(list(zip(x_points, y_points)), cut_data['wind_bearing_rad'])\n",
        "\n",
        "  elevetion_interp_vals = elevetion_interp(interp_points_x, interp_points_y)\n",
        "  PM1_interp_vals = PM1_interp(interp_points_x, interp_points_y)\n",
        "  PM25_interp_vals = PM25_interp(interp_points_x, interp_points_y)\n",
        "  PM10_interp_vals = PM10_interp(interp_points_x, interp_points_y)\n",
        "  pressure_interp_vals = pressure_interp(interp_points_x, interp_points_y)\n",
        "  humidity_interp_vals = humidity_interp(interp_points_x, interp_points_y)\n",
        "  temperature_interp_vals = temperature_interp(interp_points_x, interp_points_y)\n",
        "  wind_speed_interp_vals = wind_speed_interp(interp_points_x, interp_points_y)\n",
        "  wind_bearing_interp_vals = wind_bearing_interp(interp_points_x, interp_points_y)\n",
        "  wind_bearing_rad_interp_vals = wind_bearing_rad_interp(interp_points_x, interp_points_y)\n",
        "\n",
        "  for i, interp_point in enumerate(interp_points):\n",
        "    record = []\n",
        "    record.append(None)\n",
        "    record.append(random_inners[interp_point][0])\n",
        "    record.append(random_inners[interp_point][1])\n",
        "    record.append(random_inners[interp_point][2])\n",
        "    record.append(elevetion_interp_vals[i])\n",
        "    record.append(fromDateTime)\n",
        "    record.append(tillDateTime)\n",
        "    record.append(PM1_interp_vals[i])\n",
        "    record.append(PM25_interp_vals[i])\n",
        "    record.append(PM10_interp_vals[i])\n",
        "    record.append(pressure_interp_vals[i])\n",
        "    record.append(humidity_interp_vals[i])\n",
        "    record.append(temperature_interp_vals[i])\n",
        "    record.append(wind_speed_interp_vals[i])\n",
        "    record.append(wind_bearing_interp_vals[i])\n",
        "    record.append(wind_bearing_rad_interp_vals[i])\n",
        "    record.append(hour)\n",
        "    record.append(date)\n",
        "    record.append(weekday)\n",
        "    record.append(interp_point[0])\n",
        "    record.append(interp_point[1])\n",
        "\n",
        "    new_records.append(record)\n",
        "\n",
        "new_records = pd.DataFrame(new_records, columns=all_data.columns)\n",
        "all_data = all_data.append(new_records)\n"
      ],
      "metadata": {
        "id": "zukaA8Z_gTDY"
      },
      "execution_count": 12,
      "outputs": []
    },
    {
      "cell_type": "code",
      "source": [
        "it = DatasetNetworkIterator(all_data[FROM_DATE_TIME].unique(),all_data,[PM10],inner_radius = cracow_center_radius, batch_size = 1)\n",
        "\n",
        "ins , outs = it[0]\n",
        "\n",
        "print(ins[0].shape)\n",
        "print(ins[1].shape)\n",
        "print(outs.shape)\n",
        "print(ins[0][0][0])\n",
        "it.on_epoch_end()\n",
        "ins , outs = it[0]\n",
        "print(ins[0][0][0])\n"
      ],
      "metadata": {
        "colab": {
          "base_uri": "https://localhost:8080/"
        },
        "id": "pR5qhJPBwNnH",
        "outputId": "8bf0f5e0-dd96-4555-ae20-ede0e43df4a2"
      },
      "execution_count": 13,
      "outputs": [
        {
          "output_type": "stream",
          "name": "stdout",
          "text": [
            "(1, 150, 20)\n",
            "(1, 71, 3)\n",
            "(1, 71, 2)\n",
            "[ 1.          8.2305759  -4.67860145  0.5846853   0.53347391  0.03075363\n",
            "  0.414205    0.9249711   0.5300789   0.65217391  0.23507872  0.23011257\n",
            "  0.24502534  0.          0.          0.          0.          1.\n",
            "  0.          0.        ]\n",
            "[ 1.         14.07662139 -2.48306785  1.40778257  0.28228782  0.\n",
            "  0.19935432  1.          0.22657791  0.86956522  0.40779218  0.38150948\n",
            "  0.4152295   0.          0.          0.          0.          1.\n",
            "  0.          0.        ]\n"
          ]
        }
      ]
    },
    {
      "cell_type": "code",
      "source": [
        "\n",
        "train, test = train_test_split(all_data[FROM_DATE_TIME].unique(), test_size=0.2, random_state=SEED)\n",
        "test, valid = train_test_split(test, test_size=0.5, random_state=SEED)\n",
        "\n",
        "print(f'train {len(train)}')\n",
        "print(f'valid {len(valid)}')\n",
        "print(f'test {len(test)}')\n",
        "\n",
        "batch_size = 64\n",
        "\n",
        "train_it = DatasetNetworkIterator(train, all_data, predict_columns, batch_size = batch_size,inner_radius = cracow_center_radius)\n",
        "valid_it = DatasetNetworkIterator(valid, all_data, predict_columns, batch_size = batch_size,inner_radius = cracow_center_radius)\n",
        "test_it = DatasetNetworkIterator(test, all_data, predict_columns, batch_size = batch_size,inner_radius = cracow_center_radius)\n",
        "\n",
        "\n",
        "  "
      ],
      "metadata": {
        "colab": {
          "base_uri": "https://localhost:8080/"
        },
        "id": "BImQjiZhbPgd",
        "outputId": "13650034-bf63-40ac-a2b9-4b65820cc750"
      },
      "execution_count": 14,
      "outputs": [
        {
          "output_type": "stream",
          "name": "stdout",
          "text": [
            "train 1456\n",
            "valid 183\n",
            "test 182\n"
          ]
        }
      ]
    },
    {
      "cell_type": "code",
      "source": [
        "\n",
        "cb1 = HistoryCallback(epilepsy_protection=False) #comment out if you want to keep history when rerunning\n",
        "cb2 = EarlyStopping(patience = 70)\n",
        "\n",
        "callbacks = [cb1,cb2]\n",
        "\n",
        "hist = model.fit(train_it,\n",
        "                  validation_data=valid_it,\n",
        "                  epochs=2000,\n",
        "                  verbose=1,\n",
        "                  callbacks = callbacks)"
      ],
      "metadata": {
        "colab": {
          "base_uri": "https://localhost:8080/",
          "height": 282
        },
        "id": "IxKikssTHYXg",
        "outputId": "36708a90-7319-45b2-9ad3-61469088d1d7"
      },
      "execution_count": 16,
      "outputs": [
        {
          "output_type": "display_data",
          "data": {
            "text/plain": [
              "<Figure size 432x288 with 1 Axes>"
            ],
            "image/png": "[encoded data removed]"
          },
          "metadata": {
            "needs_background": "light"
          }
        },
        {
          "output_type": "stream",
          "name": "stdout",
          "text": [
            "\b\b\b\b\b\b\b\b\b\b\b\b\b\b\b\b\b\b\b\b\b\b\b\b\b\b\b\b\b\b\b\b\b\b\b\b\b\b\b\b\b\b\b\b\b\b\b\b\b\b\b\b\b\b\b\b\b\b\b\b\b\b\b\b\b\b\b\b\b\b\b\b\b\b\b\b\b\b\b\b\b\b\b\b\b\b\b\b\b\b\b\b\b\b\b\b\b\b\b\b\b\b\b\b\b\b\b\b\b\b\b\b\b\b\b\b\b\b\b\b\b\b\b\b\r22/22 [==============================] - 3s 118ms/step - loss: 0.0505 - tf.math.multiply_5_loss: 0.0505 - softmax_loss: 0.0000e+00 - val_loss: 0.0412 - val_tf.math.multiply_5_loss: 0.0412 - val_softmax_loss: 0.0000e+00\n"
          ]
        }
      ]
    },
    {
      "cell_type": "code",
      "source": [
        "batch_size = 4"
      ],
      "metadata": {
        "id": "nwPnXR5mzUjU"
      },
      "execution_count": null,
      "outputs": []
    },
    {
      "cell_type": "code",
      "source": [
        "from tqdm import tqdm\n",
        "\n",
        "batch_size = 64\n",
        "\n",
        "all_it = DatasetNetworkIterator(all_data[FROM_DATE_TIME].unique(), all_data, predict_columns, batch_size = batch_size,inner_radius = cracow_center_radius)\n",
        "\n",
        "outer_sensor_importance = dict()\n",
        "\n",
        "for i in tqdm(range(len(all_it))):\n",
        "# for i in range(1):\n",
        "\n",
        "  net_input = all_it[i][0]\n",
        "  net_input_outer = net_input[0]\n",
        "  net_input_inner = net_input[1]\n",
        "\n",
        "  inner_mask = net_input_inner[:,:,0]\n",
        "  outer_mask = net_input_outer[:,:,0]\n",
        "\n",
        "  out = model.predict(net_input)\n",
        "  sensor_weights = out[1]\n",
        "  sensor_ids = all_it.get_batch_sensors(i)\n",
        "\n",
        "  for j in range(sensor_weights.shape[0]):\n",
        "    for k, sensor_id in enumerate(sensor_ids[j]):\n",
        "      for l in range(sensor_weights.shape[2]):\n",
        "\n",
        "        if sensor_id not in outer_sensor_importance:\n",
        "          outer_sensor_importance[sensor_id] = []\n",
        "\n",
        "        if inner_mask[j,l] > 0:\n",
        "          outer_sensor_importance[sensor_id].append(sensor_weights[j,k,l,0])\n",
        "        \n",
        "average_outer_sensor_importance = dict()\n",
        "\n",
        "for sens_id, values in outer_sensor_importance.items():\n",
        "\n",
        "  average_outer_sensor_importance[sens_id] = np.mean(np.array(values)).item()\n",
        "\n",
        "with open('outer_sensors_importance.json', 'w') as outfile:\n",
        "    json.dump(average_outer_sensor_importance, outfile)\n",
        "\n",
        "\n"
      ],
      "metadata": {
        "id": "W6hOi8IROIEg",
        "colab": {
          "base_uri": "https://localhost:8080/"
        },
        "outputId": "42394c6e-5151-43bc-ded8-8b4f24458a98"
      },
      "execution_count": 63,
      "outputs": [
        {
          "output_type": "stream",
          "name": "stderr",
          "text": [
            "100%|██████████| 28/28 [04:56<00:00, 10.59s/it]\n"
          ]
        }
      ]
    },
    {
      "cell_type": "code",
      "source": [
        "#network normalization histogram\n",
        "\n",
        "all = []\n",
        "\n",
        "for i in range(len(train_it)):\n",
        "  batch = train_it[i][1]\n",
        "\n",
        "  for j in range(batch.shape[0]):\n",
        "    for k in range(batch.shape[1]):\n",
        "      all.append(batch[j,k,1])\n",
        "\n",
        "all = np.array(all)\n",
        "plt.hist(all)"
      ],
      "metadata": {
        "colab": {
          "base_uri": "https://localhost:8080/",
          "height": 369
        },
        "id": "ksPI-FILhuIu",
        "outputId": "bae6e693-e54b-4072-929c-227629b9c567"
      },
      "execution_count": 53,
      "outputs": [
        {
          "output_type": "execute_result",
          "data": {
            "text/plain": [
              "(array([ 4811.,   770.,  7381., 17904., 25629., 23762., 20914.,  5479.,\n",
              "          822.,    48.]),\n",
              " array([0.        , 0.07045072, 0.14090143, 0.21135215, 0.28180287,\n",
              "        0.35225359, 0.4227043 , 0.49315502, 0.56360574, 0.63405645,\n",
              "        0.70450717]),\n",
              " <a list of 10 Patch objects>)"
            ]
          },
          "metadata": {},
          "execution_count": 53
        },
        {
          "output_type": "display_data",
          "data": {
            "text/plain": [
              "<Figure size 432x288 with 1 Axes>"
            ],
            "image/png": "[encoded data removed]"
          },
          "metadata": {
            "needs_background": "light"
          }
        }
      ]
    },
    {
      "cell_type": "code",
      "source": [
        ""
      ],
      "metadata": {
        "id": "JEXBB-7GjKDd"
      },
      "execution_count": 31,
      "outputs": []
    }
  ]
}