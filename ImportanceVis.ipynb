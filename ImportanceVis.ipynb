{
 "cells": [
  {
   "cell_type": "code",
   "execution_count": 34,
   "metadata": {},
   "outputs": [],
   "source": [
    "import plotly.graph_objects as go\n",
    "import json\n",
    "import numpy as np"
   ]
  },
  {
   "cell_type": "code",
   "execution_count": 35,
   "metadata": {},
   "outputs": [
    {
     "data": {
      "application/vnd.jupyter.widget-view+json": {
       "model_id": "49e4fcc901d34fd085255ff57ad3ea1c",
       "version_major": 2,
       "version_minor": 0
      },
      "text/plain": [
       "FigureWidget({\n",
       "    'data': [{'marker': {'color': array([4.17022005e-01, 7.20324493e-01, 1.14374817e-04, 3.0233…"
      ]
     },
     "metadata": {},
     "output_type": "display_data"
    }
   ],
   "source": [
    "# Constants\n",
    "img_width = 1030\n",
    "img_height = 960\n",
    "scale_factor = 1\n",
    "\n",
    "np.random.seed(1)\n",
    "\n",
    "with open('sensors_list.json', 'r') as f:\n",
    "    sensors = json.load(f)\n",
    "    \n",
    "sensors_len = len(sensors)\n",
    "sensors_ids = list(map(lambda x: x['id'], sensors))\n",
    "\n",
    "with open('measurements/outer_sensors_per_sensor_importance.json', 'r') as f:\n",
    "    importance = json.load(f)\n",
    "\n",
    "inner_ids = list(importance.keys())\n",
    "outer_ids = list(importance[inner_ids[0]].keys())\n",
    "\n",
    "importance_matrix = [[0 for _ in range(sensors_len)] for _ in range(sensors_len)]\n",
    "\n",
    "for inner_id in inner_ids:\n",
    "    matrix_inner_id = 0\n",
    "    inner_dict = importance[inner_id]\n",
    "    \n",
    "importance_dict = {}\n",
    "for sensor_id in sensors_ids:\n",
    "    if str(sensor_id) in inner_ids:\n",
    "        importance_array_inner = []\n",
    "        for sensor_id_inner in sensors_ids:\n",
    "            if str(sensor_id_inner) in outer_ids:\n",
    "                importance_array_inner.append(importance[str(sensor_id)][str(sensor_id_inner)])\n",
    "            else:\n",
    "                importance_array_inner.append(0.002)\n",
    "        importance_dict[sensor_id] = importance_array_inner\n",
    "    else:\n",
    "        importance_array_inner = []\n",
    "        for sensor_id_inner in sensors_ids:\n",
    "            if str(sensor_id_inner) in outer_ids:\n",
    "                importance_array_inner.append(0.005)\n",
    "            else:\n",
    "                importance_array_inner.append(0.002)\n",
    "        importance_dict[sensor_id] = importance_array_inner\n",
    "\n",
    "x = list(map(lambda s: s['location']['longitude'], sensors))\n",
    "y = list(map(lambda s: s['location']['latitude'], sensors))\n",
    "\n",
    "f = go.FigureWidget([go.Scatter(x=x, y=y, mode='markers')])\n",
    "\n",
    "# Configure axes\n",
    "f.update_xaxes(\n",
    "    visible=True,\n",
    "    range=[19.70, 20.20], #[0, img_width * scale_factor]\n",
    ")\n",
    "\n",
    "f.update_yaxes(\n",
    "    visible=True,\n",
    "    range=[49.90, 50.20], #[0, img_height * scale_factor],\n",
    "    # the scaleanchor attribute ensures that the aspect ratio stays constant\n",
    "    #scaleanchor='x'\n",
    ")\n",
    "\n",
    "# Add image\n",
    "f.add_layout_image(\n",
    "    dict(\n",
    "        x=19.70,\n",
    "        sizex=0.5,\n",
    "        y=50.20,\n",
    "        sizey=0.3,\n",
    "        xref='x',\n",
    "        yref='y',\n",
    "        opacity=0.5,\n",
    "        layer='below',\n",
    "        sizing='stretch',\n",
    "        source='charts/cracow3.png')\n",
    ")\n",
    "\n",
    "# Configure other layout\n",
    "f.update_layout(\n",
    "    width=img_width * scale_factor,\n",
    "    height=img_height * scale_factor,\n",
    "    margin={\"l\": 0, \"r\": 0, \"t\": 0, \"b\": 0},\n",
    ")\n",
    "\n",
    "scatter = f.data[0]\n",
    "colors = np.random.rand(len(x))\n",
    "scatter.marker.color = colors\n",
    "scatter.marker.showscale = True\n",
    "scatter.marker.size = [10] * len(x)\n",
    "f.layout.hovermode = 'closest'\n",
    "\n",
    "\n",
    "# create our callback function\n",
    "def update_point(trace, points, selector):\n",
    "    i = points.point_inds[0]\n",
    "    c = importance_dict[sensors_ids[i]]\n",
    "    s = [10] * len(x)\n",
    "    with f.batch_update():\n",
    "        scatter.marker.color = c\n",
    "        scatter.marker.size = list(map(lambda x: x * 5000, c))\n",
    "\n",
    "\n",
    "scatter.on_click(update_point)\n",
    "\n",
    "f"
   ]
  }
 ],
 "metadata": {
  "interpreter": {
   "hash": "916dbcbb3f70747c44a77c7bcd40155683ae19c65e1c03b4aa3499c5328201f1"
  },
  "kernelspec": {
   "display_name": "Python 3 (ipykernel)",
   "language": "python",
   "name": "python3"
  },
  "language_info": {
   "codemirror_mode": {
    "name": "ipython",
    "version": 3
   },
   "file_extension": ".py",
   "mimetype": "text/x-python",
   "name": "python",
   "nbconvert_exporter": "python",
   "pygments_lexer": "ipython3",
   "version": "3.9.5"
  }
 },
 "nbformat": 4,
 "nbformat_minor": 2
}
